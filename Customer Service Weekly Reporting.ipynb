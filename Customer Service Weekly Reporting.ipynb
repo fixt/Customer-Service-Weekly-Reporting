{
 "cells": [
  {
   "cell_type": "code",
   "execution_count": 1,
   "metadata": {},
   "outputs": [],
   "source": [
    "#!/usr/bin/python\n",
    "import psycopg2\n",
    "import sys\n",
    "import pprint\n",
    "import pandas as pd\n",
    "from operator import itemgetter\n",
    "import matplotlib.pyplot as plt\n",
    "from matplotlib.pyplot import figure\n",
    "import openpyxl\n",
    "import json\n",
    "from datetime import datetime\n",
    "from dateutil.relativedelta import relativedelta, FR"
   ]
  },
  {
   "cell_type": "markdown",
   "metadata": {},
   "source": [
    "# Database Query Template\n",
    "Provide shell for running queries against the database."
   ]
  },
  {
   "cell_type": "code",
   "execution_count": 2,
   "metadata": {},
   "outputs": [],
   "source": [
    "def getRecords(query):\n",
    "    conn_string = \"host='ec2-34-204-130-85.compute-1.amazonaws.com' dbname='dajagik9jf03kv' user='ufff9p79fblkso' password='pajqlppcmb52klbmpsmbtiucuqi'\"\n",
    "    # print the connection string we will use to connect\n",
    "    # print(\"Connecting to database\\n\t->%s\" % (conn_string))\n",
    " \n",
    "    # get a connection, if a connect cannot be made an exception will be raised here\n",
    "    conn = psycopg2.connect(conn_string)\n",
    " \n",
    "    # conn.cursor will return a cursor object, you can use this cursor to perform queries\n",
    "    cursor = conn.cursor()\n",
    "    \n",
    "    df = pd.read_sql_query(query ,con=conn)\n",
    "    \n",
    "    return df"
   ]
  },
  {
   "cell_type": "markdown",
   "metadata": {},
   "source": [
    "# Determine End Dates for the Reports\n",
    "Determines the date range for the reports. \n",
    "-0 represents the Friday of the current week\n",
    "-1 represents the previous Friday\n",
    "-2 2 Friday's ago etc.\n",
    "Please check date printout to verify that the program uses the date range you intend. The default numbers\n",
    "should work if the report is run on a Friday."
   ]
  },
  {
   "cell_type": "code",
   "execution_count": 3,
   "metadata": {},
   "outputs": [
    {
     "name": "stdout",
     "output_type": "stream",
     "text": [
      "2019-1-18T16:00:00\n",
      "2019-2-1T14:00:00\n"
     ]
    }
   ],
   "source": [
    "# Determines the date for the previous Friday\n",
    "ref = datetime.now() + relativedelta(weekday=FR(-2))\n",
    "lastFriday = str(ref.year) + '-' + str(ref.month) + '-' + str(ref.day) + 'T16:00:00'\n",
    "\n",
    "# Determines the date for the current Friday\n",
    "ref = datetime.now() + relativedelta(weekday=FR(-0))\n",
    "curFriday = str(ref.year) + '-' + str(ref.month) + '-' + str(ref.day) + 'T14:00:00'\n",
    "\n",
    "print(lastFriday)\n",
    "print(curFriday)"
   ]
  },
  {
   "cell_type": "code",
   "execution_count": 4,
   "metadata": {},
   "outputs": [],
   "source": [
    "query = \"\"\" SELECT \"Claims\".\"state\" AS \"State\",\n",
    "       \"Accounts\".\"name\" AS \"Group\",\n",
    "       \"Users\".\"name\" AS \"Customer\",\n",
    "        TO_CHAR(\"Claims\".\"scheduled_window_start\", 'YYYY-MM-DD\"T\"HH24\":\"MI') AS \"Scheduled Window Start\",\n",
    "        \"Claims\".\"id\" AS \"id\"\n",
    "        FROM \"public\".\"claims\" AS \"Claims\"\n",
    "        INNER JOIN \"public\".\"groups\" AS \"Groups\" ON \"Claims\".\"group_id\" = \"Groups\".\"id\"\n",
    "        INNER JOIN \"public\".\"accounts\" AS \"Accounts\" ON \"Groups\".\"account_id\" = \"Accounts\".\"id\"\n",
    "        INNER JOIN \"public\".\"devices\" AS \"Devices\" ON \"Claims\".\"device_id\" = \"Devices\".\"id\"\n",
    "        INNER JOIN \"public\".\"users\" AS \"Users\" ON \"Devices\".\"user_id\" = \"Users\".\"id\"\n",
    "        WHERE (\"Claims\".\"resolved_at\"::DATE AT TIME ZONE 'UTC' >= \"\"\"\n",
    "query = query + \"'\" + lastFriday + \"'\"\n",
    "query = query + \"\"\" AND \"Claims\".\"resolved_at\"::DATE AT TIME ZONE 'UTC' < \"\"\"\n",
    "query = query + \"'\" + curFriday + \"')\"\n",
    "query = query + \"\"\" GROUP BY \"Claims\".\"state\",\n",
    "                     TO_CHAR(\"Claims\".\"scheduled_window_start\", 'YYYY-MM-DD\"T\"HH24\":\"MI'),\n",
    "                     \"Accounts\".\"name\",\n",
    "                     \"Users\".\"name\", \"Claims\".\"id\"\n",
    "                    ORDER BY \"State\" ASC,\n",
    "                     \"Scheduled Window Start\" DESC,\n",
    "                     \"Group\" ASC, \n",
    "                     \"Customer\" ASC \"\"\""
   ]
  },
  {
   "cell_type": "code",
   "execution_count": 5,
   "metadata": {},
   "outputs": [
    {
     "data": {
      "text/html": [
       "<div>\n",
       "<style scoped>\n",
       "    .dataframe tbody tr th:only-of-type {\n",
       "        vertical-align: middle;\n",
       "    }\n",
       "\n",
       "    .dataframe tbody tr th {\n",
       "        vertical-align: top;\n",
       "    }\n",
       "\n",
       "    .dataframe thead th {\n",
       "        text-align: right;\n",
       "    }\n",
       "</style>\n",
       "<table border=\"1\" class=\"dataframe\">\n",
       "  <thead>\n",
       "    <tr style=\"text-align: right;\">\n",
       "      <th></th>\n",
       "      <th>id</th>\n",
       "      <th>Percentage</th>\n",
       "    </tr>\n",
       "    <tr>\n",
       "      <th>tier</th>\n",
       "      <th></th>\n",
       "      <th></th>\n",
       "    </tr>\n",
       "  </thead>\n",
       "  <tbody>\n",
       "    <tr>\n",
       "      <th>1</th>\n",
       "      <td>102</td>\n",
       "      <td>79.07</td>\n",
       "    </tr>\n",
       "    <tr>\n",
       "      <th>2</th>\n",
       "      <td>23</td>\n",
       "      <td>17.83</td>\n",
       "    </tr>\n",
       "    <tr>\n",
       "      <th>3</th>\n",
       "      <td>4</td>\n",
       "      <td>3.10</td>\n",
       "    </tr>\n",
       "  </tbody>\n",
       "</table>\n",
       "</div>"
      ],
      "text/plain": [
       "       id  Percentage\n",
       "tier                 \n",
       "1     102       79.07\n",
       "2      23       17.83\n",
       "3       4        3.10"
      ]
     },
     "execution_count": 5,
     "metadata": {},
     "output_type": "execute_result"
    }
   ],
   "source": [
    "# Completed claims\n",
    "\n",
    "queryc = \"\"\" select\n",
    "        repair.id id,\n",
    "        max(coalesce(condition.tier, 1)) tier\n",
    "    from claims repair\n",
    "    left join claims_claim_conditions ccc on ccc.claim_id = repair.id\n",
    "    left join claim_conditions condition on ccc.claim_condition_id = condition.id\n",
    "    where resolved_at between \"\"\"\n",
    "queryc = queryc + \"'\" + lastFriday + \"'\"\n",
    "queryc = queryc + \" and \" + \"'\" + curFriday + \"'\" + \" group by 1\"\n",
    "\n",
    "dfc = getRecords(queryc)\n",
    "dfc = dfc.groupby('tier').count()\n",
    "dfc['Percentage'] = 0.0\n",
    "Total = dfc['id'].sum()\n",
    "dfc['Percentage'] = round(100 * dfc['id'] / Total, 2)\n",
    "dfc"
   ]
  },
  {
   "cell_type": "code",
   "execution_count": 6,
   "metadata": {},
   "outputs": [],
   "source": [
    "def nameState(state):\n",
    "    if state == 0:\n",
    "        return 'Requested'\n",
    "    if state == 1:\n",
    "        return 'Scheduled'\n",
    "    if state == 2:\n",
    "        return 'In Progress'\n",
    "    if state == 3:\n",
    "        return 'Completed'\n",
    "    if state == 4:\n",
    "        return 'Canceled'\n"
   ]
  },
  {
   "cell_type": "code",
   "execution_count": 7,
   "metadata": {},
   "outputs": [],
   "source": [
    "df = getRecords(query)\n",
    "df.State = df.State.apply(lambda x: nameState(x))"
   ]
  },
  {
   "cell_type": "code",
   "execution_count": 8,
   "metadata": {},
   "outputs": [
    {
     "data": {
      "text/html": [
       "<div>\n",
       "<style scoped>\n",
       "    .dataframe tbody tr th:only-of-type {\n",
       "        vertical-align: middle;\n",
       "    }\n",
       "\n",
       "    .dataframe tbody tr th {\n",
       "        vertical-align: top;\n",
       "    }\n",
       "\n",
       "    .dataframe thead th {\n",
       "        text-align: right;\n",
       "    }\n",
       "</style>\n",
       "<table border=\"1\" class=\"dataframe\">\n",
       "  <thead>\n",
       "    <tr style=\"text-align: right;\">\n",
       "      <th></th>\n",
       "      <th>State</th>\n",
       "      <th>Group</th>\n",
       "      <th>Customer</th>\n",
       "      <th>Scheduled Window Start</th>\n",
       "      <th>id</th>\n",
       "    </tr>\n",
       "  </thead>\n",
       "  <tbody>\n",
       "    <tr>\n",
       "      <th>110</th>\n",
       "      <td>Completed</td>\n",
       "      <td>AT&amp;T</td>\n",
       "      <td>Emma Squires</td>\n",
       "      <td>2019-01-17T22:00</td>\n",
       "      <td>59ca10d2-0e21-4695-a525-19edad22bfd3</td>\n",
       "    </tr>\n",
       "    <tr>\n",
       "      <th>111</th>\n",
       "      <td>Completed</td>\n",
       "      <td>Stanford University</td>\n",
       "      <td>Sandra Wong Martin</td>\n",
       "      <td>2019-01-17T18:00</td>\n",
       "      <td>cb22da56-5579-40ce-bcbc-17c9f3a023ea</td>\n",
       "    </tr>\n",
       "    <tr>\n",
       "      <th>112</th>\n",
       "      <td>Completed</td>\n",
       "      <td>Wireless Analytics</td>\n",
       "      <td>Jesus Loera</td>\n",
       "      <td>2019-01-17T17:00</td>\n",
       "      <td>9c80c54b-7923-46f6-82c7-bc76448ed9f2</td>\n",
       "    </tr>\n",
       "    <tr>\n",
       "      <th>113</th>\n",
       "      <td>Canceled</td>\n",
       "      <td>T. Rowe Price</td>\n",
       "      <td>Chuma Enwonwu</td>\n",
       "      <td>2019-01-28T21:30</td>\n",
       "      <td>152ecc28-f3d1-4e57-b994-d3a54b48ee14</td>\n",
       "    </tr>\n",
       "    <tr>\n",
       "      <th>114</th>\n",
       "      <td>Canceled</td>\n",
       "      <td>Rutgers</td>\n",
       "      <td>8649931818</td>\n",
       "      <td>2019-01-23T17:00</td>\n",
       "      <td>fb4f58d5-572d-498e-a2be-f0c7bcd47321</td>\n",
       "    </tr>\n",
       "  </tbody>\n",
       "</table>\n",
       "</div>"
      ],
      "text/plain": [
       "         State                Group            Customer  \\\n",
       "110  Completed                 AT&T        Emma Squires   \n",
       "111  Completed  Stanford University  Sandra Wong Martin   \n",
       "112  Completed   Wireless Analytics         Jesus Loera   \n",
       "113   Canceled        T. Rowe Price       Chuma Enwonwu   \n",
       "114   Canceled              Rutgers          8649931818   \n",
       "\n",
       "    Scheduled Window Start                                    id  \n",
       "110       2019-01-17T22:00  59ca10d2-0e21-4695-a525-19edad22bfd3  \n",
       "111       2019-01-17T18:00  cb22da56-5579-40ce-bcbc-17c9f3a023ea  \n",
       "112       2019-01-17T17:00  9c80c54b-7923-46f6-82c7-bc76448ed9f2  \n",
       "113       2019-01-28T21:30  152ecc28-f3d1-4e57-b994-d3a54b48ee14  \n",
       "114       2019-01-23T17:00  fb4f58d5-572d-498e-a2be-f0c7bcd47321  "
      ]
     },
     "execution_count": 8,
     "metadata": {},
     "output_type": "execute_result"
    }
   ],
   "source": [
    "df.tail()"
   ]
  },
  {
   "cell_type": "code",
   "execution_count": 9,
   "metadata": {},
   "outputs": [],
   "source": [
    "df_groups = df.groupby('Group').count()\n",
    "df_groups.drop(['Customer', 'Scheduled Window Start', 'id'], axis=1, inplace=True)\n",
    "Total = df_groups['State'].sum()\n",
    "df_groups['% by Account'] = round(100 * df_groups['State'] / Total, 2)\n",
    "df_groups.sort_values(['State'], ascending=[False], inplace = True)"
   ]
  },
  {
   "cell_type": "code",
   "execution_count": 10,
   "metadata": {},
   "outputs": [],
   "source": [
    "status = []\n",
    "states = df.groupby('State').count()\n",
    "states = states['Group']\n",
    "states.columns = ['Count']\n",
    "\n",
    "# Calculate Percentages\n",
    "try:\n",
    "    Requested = round(100 * states['Requested'] / states.sum(), 2)\n",
    "except:\n",
    "    Requested = 0.00\n",
    "    \n",
    "try:\n",
    "    Scheduled = round(100 * states['Scheduled'] / states.sum(), 2)\n",
    "except:\n",
    "    Scheduled = 0.00\n",
    "try:\n",
    "    InProgress = round(100 * states['In Progress'] / states.sum(), 2)\n",
    "except:\n",
    "    InProgress = 0.00\n",
    "    \n",
    "try:\n",
    "    Completed = round(100 * states['Completed'] / states.sum(), 2)\n",
    "except:\n",
    "    Completed = 0.00\n",
    "    \n",
    "try:\n",
    "    Canceled = round(100 * states['Canceled'] / states.sum(), 2)\n",
    "except:\n",
    "    Canceled = 0.00\n",
    "\n",
    "status.append(['Requested', Requested])\n",
    "status.append(['In Progress', InProgress])\n",
    "status.append(['Completed', Completed])\n",
    "status.append(['Scheduled', Scheduled])\n",
    "status.append(['Canceled', Canceled])\n",
    "\n",
    "states = pd.DataFrame(status)\n",
    "states.columns = ['Status', 'Percentage']\n",
    "states.sort_values(['Percentage'], ascending=[False], inplace = True)\n",
    "states.reset_index(drop = True, inplace = True)"
   ]
  },
  {
   "cell_type": "code",
   "execution_count": 11,
   "metadata": {},
   "outputs": [],
   "source": [
    "query = \"\"\" select distinct\n",
    "        COALESCE(condition.tier, 1) as Tier, repair.id\n",
    "    from claims repair\n",
    "    left join claims_claim_conditions ccc on ccc.claim_id = repair.id\n",
    "    left join claim_conditions condition on ccc.claim_condition_id = condition.id\n",
    "    where repair.scheduled_window_start > \"\"\"\n",
    "query = query + \"'\" + lastFriday + \"'\"\n",
    "\n",
    "tiers = getRecords(query)"
   ]
  },
  {
   "cell_type": "code",
   "execution_count": 12,
   "metadata": {},
   "outputs": [],
   "source": [
    "output = pd.merge(df, tiers, on = 'id')\n",
    "df_tiers = output[['State','tier','Customer','Group','Scheduled Window Start']].copy()\n",
    "df_tiers.columns = ['State', 'Tier', 'Customer', 'Group', 'Scheduled Window Start']\n",
    "df_tiers = df_tiers[df_tiers.State == 'Completed'].groupby(['Tier']).count()\n",
    "df_tiers.columns = ['Count', 'Customer', 'Group', 'Scheduled Window Start']\n",
    "Total = df_tiers['Count'].sum()\n",
    "df_tiers['Percentage by Tier'] = round(100 * df_tiers['Count'] / Total, 2)\n",
    "df_tiers.drop(['Customer', 'Group', 'Scheduled Window Start'], axis=1, inplace=True)\n",
    "df.sort_values(['Group','Scheduled Window Start'], ascending=[True, True], inplace = True)"
   ]
  },
  {
   "cell_type": "code",
   "execution_count": 13,
   "metadata": {
    "scrolled": true
   },
   "outputs": [],
   "source": [
    "today = datetime.now()\n",
    "df_groups.columns = ['Count', '% by Account']\n",
    "dateFile = str(today.month) + '-' + str(today.day) + '-' + str(today.year)\n",
    "filename = 'customer service ' + dateFile + '.xlsx'\n",
    "writer = pd.ExcelWriter(filename)\n",
    "df.to_excel(writer, 'Claims Data', index = False)\n",
    "states.to_excel(writer, 'States Data', index = False)\n",
    "df_tiers.to_excel(writer,'Percentage by Tier')\n",
    "df_groups.to_excel(writer, '% by Group')\n",
    "dfc.to_excel(writer, '% by Tier Completed')\n",
    "\n",
    "lstate = df.State.map(lambda x: len(x)).max() + 1\n",
    "lGroup = df.Group.map(lambda x: len(x)).max() + 1\n",
    "lCustomer = df.Customer.map(lambda x: len(x)).max() + 1\n",
    "lStart = len('Scheduled Window Start') + 2\n",
    "lid = df.id.map(lambda x: len(x)).max() \n",
    "\n",
    "ws = writer.sheets['Claims Data']\n",
    "ws.set_column(0, 1, lstate)\n",
    "ws.set_column(1, 2, lGroup)\n",
    "ws.set_column(2, 3, lCustomer)\n",
    "ws.set_column(3, 4, lStart)\n",
    "ws.set_column(4, 5, lid)\n",
    "\n",
    "lstatus = states.Status.map(lambda x: len(x)).max() + 1\n",
    "lPercentage = len('Percentage') + 1\n",
    "ws = writer.sheets['States Data']\n",
    "ws.set_column(0, 1, lstatus)\n",
    "ws.set_column(1, 2, lPercentage)\n",
    "\n",
    "ltiers = len('Percentage by Tier') + 1\n",
    "ws = writer.sheets['Percentage by Tier']\n",
    "ws.set_column(2, 3, ltiers)\n",
    "\n",
    "lGroup = df_groups.index.map(lambda x: len(x)).max() + 1\n",
    "lState = len('Count') + 1\n",
    "lAccount = len('% by Account') + 1\n",
    "ws = writer.sheets['% by Group']\n",
    "ws.set_column(0, 1, lGroup)\n",
    "ws.set_column(1, 2, lState)\n",
    "ws.set_column(2, 3, lAccount)\n",
    "\n",
    "writer.save()"
   ]
  },
  {
   "cell_type": "code",
   "execution_count": 14,
   "metadata": {},
   "outputs": [],
   "source": [
    "# Tier moving average data\n",
    "\n",
    "queryt = \"\"\" select\n",
    "        repair.id id,\n",
    "        max(coalesce(condition.tier, 1)) tier,\n",
    "        to_date(EXTRACT(YEAR FROM \"repair\".\"resolved_at\")::text ||  EXTRACT(WEEK FROM \"repair\".\"resolved_at\"), 'yyyyww') as \"WeekOf\"\n",
    "    from claims repair\n",
    "    left join claims_claim_conditions ccc on ccc.claim_id = repair.id\n",
    "    left join claim_conditions condition on ccc.claim_condition_id = condition.id\n",
    "    where \"repair\".\"resolved_at\" > '04-01-2018' group by 1, 3 \"\"\"\n",
    "\n",
    "dft = getRecords(queryt)\n",
    "\n",
    "dft.sort_values(['WeekOf'], ascending = [True], inplace = True)\n",
    "\n",
    "dft = dft.groupby(['WeekOf','tier'])['tier'].count()\n",
    "dft = pd.DataFrame(dft)\n",
    "dft.columns = ['count']\n",
    "dft = dft.unstack()\n",
    "dft.fillna(0.0, inplace = True)\n",
    "dft['Tier 1 Percentage'] = dft['count',1] / (dft['count', 1] + dft['count', 2] + dft['count',3])"
   ]
  },
  {
   "cell_type": "code",
   "execution_count": 15,
   "metadata": {
    "scrolled": true
   },
   "outputs": [
    {
     "data": {
      "image/png": "[encoded data removed]",
      "text/plain": [
       "<Figure size 432x288 with 1 Axes>"
      ]
     },
     "metadata": {
      "needs_background": "light"
     },
     "output_type": "display_data"
    },
    {
     "data": {
      "text/plain": [
       "<Figure size 8640x6480 with 0 Axes>"
      ]
     },
     "metadata": {},
     "output_type": "display_data"
    }
   ],
   "source": [
    "dft_rolling4 = dft.rolling(window = 8).mean()\n",
    "dfa = pd.merge(dft, dft_rolling4, on = 'WeekOf')\n",
    "dfa = dfa[['Tier 1 Percentage_x', 'Tier 1 Percentage_y']]\n",
    "dfa.columns = ['Tier 1 Percentage', '8 Week Rolling Mean']\n",
    "\n",
    "# Change to percent\n",
    "dfa = 100 * dfa\n",
    "plt = dfa.plot(title='Tier Data versus 8 Week Rolling Mean', rot = 75)\n",
    "plt.set_xlabel('')\n",
    "plt.set_ylabel('% Tier 1s')\n",
    "fig = figure(num=None, figsize=(8, 6), dpi=1080, facecolor='w', edgecolor='k')\n",
    "_fig = plt.get_figure()\n",
    "_fig.savefig('tierplots.png', bbox_inches='tight', dpi = 300)\n",
    "\n",
    "# # Your plot generation code here...\n",
    "plt.legend(bbox_to_anchor=(1.05, 1), loc=2, borderaxespad=0.)\n",
    "\n",
    "wb = openpyxl.load_workbook(filename)\n",
    "ws = wb.create_sheet('Tier Rolling Mean')\n",
    "img = openpyxl.drawing.image.Image('tierplots.png')\n",
    "img.height = 0.40 * img.height\n",
    "img.width = 0.40 * img.width\n",
    "ws.add_image(img, 'B3')\n",
    "\n",
    "# ws.add_image(img)\n",
    "wb.save(filename)"
   ]
  },
  {
   "cell_type": "code",
   "execution_count": 16,
   "metadata": {},
   "outputs": [
    {
     "data": {
      "text/html": [
       "<div>\n",
       "<style scoped>\n",
       "    .dataframe tbody tr th:only-of-type {\n",
       "        vertical-align: middle;\n",
       "    }\n",
       "\n",
       "    .dataframe tbody tr th {\n",
       "        vertical-align: top;\n",
       "    }\n",
       "\n",
       "    .dataframe thead tr th {\n",
       "        text-align: left;\n",
       "    }\n",
       "\n",
       "    .dataframe thead tr:last-of-type th {\n",
       "        text-align: right;\n",
       "    }\n",
       "</style>\n",
       "<table border=\"1\" class=\"dataframe\">\n",
       "  <thead>\n",
       "    <tr>\n",
       "      <th></th>\n",
       "      <th colspan=\"3\" halign=\"left\">count</th>\n",
       "      <th>Tier 1 Percentage</th>\n",
       "    </tr>\n",
       "    <tr>\n",
       "      <th>tier</th>\n",
       "      <th>1</th>\n",
       "      <th>2</th>\n",
       "      <th>3</th>\n",
       "      <th></th>\n",
       "    </tr>\n",
       "    <tr>\n",
       "      <th>WeekOf</th>\n",
       "      <th></th>\n",
       "      <th></th>\n",
       "      <th></th>\n",
       "      <th></th>\n",
       "    </tr>\n",
       "  </thead>\n",
       "  <tbody>\n",
       "    <tr>\n",
       "      <th>2018-01-01</th>\n",
       "      <td>2.0</td>\n",
       "      <td>0.0</td>\n",
       "      <td>0.0</td>\n",
       "      <td>1.000000</td>\n",
       "    </tr>\n",
       "    <tr>\n",
       "      <th>2018-04-02</th>\n",
       "      <td>22.0</td>\n",
       "      <td>11.0</td>\n",
       "      <td>1.0</td>\n",
       "      <td>0.647059</td>\n",
       "    </tr>\n",
       "    <tr>\n",
       "      <th>2018-04-09</th>\n",
       "      <td>28.0</td>\n",
       "      <td>13.0</td>\n",
       "      <td>2.0</td>\n",
       "      <td>0.651163</td>\n",
       "    </tr>\n",
       "    <tr>\n",
       "      <th>2018-04-16</th>\n",
       "      <td>23.0</td>\n",
       "      <td>13.0</td>\n",
       "      <td>1.0</td>\n",
       "      <td>0.621622</td>\n",
       "    </tr>\n",
       "    <tr>\n",
       "      <th>2018-04-23</th>\n",
       "      <td>27.0</td>\n",
       "      <td>19.0</td>\n",
       "      <td>1.0</td>\n",
       "      <td>0.574468</td>\n",
       "    </tr>\n",
       "  </tbody>\n",
       "</table>\n",
       "</div>"
      ],
      "text/plain": [
       "           count            Tier 1 Percentage\n",
       "tier           1     2    3                  \n",
       "WeekOf                                       \n",
       "2018-01-01   2.0   0.0  0.0          1.000000\n",
       "2018-04-02  22.0  11.0  1.0          0.647059\n",
       "2018-04-09  28.0  13.0  2.0          0.651163\n",
       "2018-04-16  23.0  13.0  1.0          0.621622\n",
       "2018-04-23  27.0  19.0  1.0          0.574468"
      ]
     },
     "execution_count": 16,
     "metadata": {},
     "output_type": "execute_result"
    }
   ],
   "source": [
    "dft.head()"
   ]
  },
  {
   "cell_type": "code",
   "execution_count": null,
   "metadata": {},
   "outputs": [],
   "source": []
  },
  {
   "cell_type": "code",
   "execution_count": null,
   "metadata": {},
   "outputs": [],
   "source": []
  }
 ],
 "metadata": {
  "kernelspec": {
   "display_name": "Python 3",
   "language": "python",
   "name": "python3"
  },
  "language_info": {
   "codemirror_mode": {
    "name": "ipython",
    "version": 3
   },
   "file_extension": ".py",
   "mimetype": "text/x-python",
   "name": "python",
   "nbconvert_exporter": "python",
   "pygments_lexer": "ipython3",
   "version": "3.6.7"
  }
 },
 "nbformat": 4,
 "nbformat_minor": 2
}
